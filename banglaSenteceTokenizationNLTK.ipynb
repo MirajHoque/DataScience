{
 "cells": [
  {
   "cell_type": "code",
   "execution_count": 6,
   "metadata": {},
   "outputs": [],
   "source": [
    "from nltk.tokenize import sent_tokenize, word_tokenize"
   ]
  },
  {
   "cell_type": "code",
   "execution_count": 7,
   "metadata": {},
   "outputs": [],
   "source": [
    "from googletrans import Translator"
   ]
  },
  {
   "cell_type": "code",
   "execution_count": 14,
   "metadata": {},
   "outputs": [],
   "source": [
    "#text =\" খুব ভোরে ঘুম থেকে উঠার অভ্যাস কখনো আমার হবে না। বিশ্ববিদ্যালয় যায়গাটাতে সবসময় কেন দেরি করে যেতে হবে আমার? রোজ রোজ একাজ করা উচিত না।বিশ্ববিদ্যালয় যাওয়ার পর প্রিয়জনকে দেখলে ভীষণ ভালো লাগে। পড়তে ভালো লাগে না। তাকে না দেখলে সময় ভালো কাটেনা।মনটা কেমন  কেমন করে । তুমি বেঁচে থাকবে হয়ে আমার প্রিয়তমা। \"\n",
    "#a='। '\n",
    "#b='.'\n",
    "#n='?'\n",
    "#newText=text.replace(a,b)\n",
    "#finalText=newText.replace(n,b)\n",
    "#print(finalText)\n",
    "#someone=\"do you know. you are mine.\"\n",
    "#tokenizedSentences = [word_tokenize(i) for i in someone]\n",
    "#for i in tokenizedSentences:\n",
    " #   print(i)\n",
    "\n",
    "\n",
    "\n",
    "\n",
    " "
   ]
  },
  {
   "cell_type": "code",
   "execution_count": 19,
   "metadata": {},
   "outputs": [],
   "source": [
    "someone=['do you know', 'you are mine' ]\n",
    "#print(c)"
   ]
  },
  {
   "cell_type": "code",
   "execution_count": 26,
   "metadata": {},
   "outputs": [
    {
     "name": "stdout",
     "output_type": "stream",
     "text": [
      "['do you know']\n",
      "['you are mine']\n"
     ]
    }
   ],
   "source": [
    "#tokenizedSentences = [sent_tokenize(i) for i in someone]\n",
    "#for i in tokenized_sents:\n",
    " #   print(i)\n",
    "#c=sent_tokenize(finalText)\n",
    "#print(c)\n",
    "#for sentence in sent_tokenize(newText):\n",
    "#    print(sentence)\n",
    "#c=sent_tokenize(someone)\n",
    "tokenizedSentences = [sent_tokenize(i) for i in someone]\n",
    "for i in tokenizedSentences:\n",
    "    print(i)"
   ]
  },
  {
   "cell_type": "code",
   "execution_count": 25,
   "metadata": {},
   "outputs": [],
   "source": [
    "#c[0]"
   ]
  },
  {
   "cell_type": "code",
   "execution_count": 12,
   "metadata": {},
   "outputs": [],
   "source": [
    "#translator=Translator()"
   ]
  },
  {
   "cell_type": "code",
   "execution_count": 13,
   "metadata": {},
   "outputs": [],
   "source": [
    "#print(translator.translate(newText).text)"
   ]
  },
  {
   "cell_type": "code",
   "execution_count": null,
   "metadata": {},
   "outputs": [],
   "source": []
  },
  {
   "cell_type": "code",
   "execution_count": null,
   "metadata": {},
   "outputs": [],
   "source": []
  }
 ],
 "metadata": {
  "kernelspec": {
   "display_name": "Python 3",
   "language": "python",
   "name": "python3"
  },
  "language_info": {
   "codemirror_mode": {
    "name": "ipython",
    "version": 3
   },
   "file_extension": ".py",
   "mimetype": "text/x-python",
   "name": "python",
   "nbconvert_exporter": "python",
   "pygments_lexer": "ipython3",
   "version": "3.7.1"
  }
 },
 "nbformat": 4,
 "nbformat_minor": 2
}
