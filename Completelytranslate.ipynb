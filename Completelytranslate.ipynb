{
 "cells": [
  {
   "cell_type": "code",
   "execution_count": 10,
   "metadata": {},
   "outputs": [],
   "source": [
    "from googletrans import Translator\n",
    "from textblob import TextBlob\n",
    "from nltk.tokenize import sent_tokenize, word_tokenize"
   ]
  },
  {
   "cell_type": "code",
   "execution_count": 117,
   "metadata": {},
   "outputs": [],
   "source": [
    "quite=[\"দারিদ্রতা পুরোপুরি নির্মূল করে দেবে বিজেপি\",\"অতিরিক্ত টেনশন একটা মানুষকে পুরোপুরি শেষ করে দেওয়ার জন্য যথেষ্ট\",\"আপনি কি পুরোপুরি নিরামিষভোজী?\",\"রোমান্টিক মানুষ গুলো কখনো পুরোপুরি অসৎ বা হারামি হতে পারেনা।\",\"পুরান ঢাকা পুরোপুরি ঝুঁকিমুক্ত করা সম্ভব নয়: গণপূর্তমন্ত্রী\",\"পুরোপুরি।\",\"পুরোপুরি ঠিক নয়?\",\"মানুষ যখন পুরোপুরি একা হয়ে যায় তখন সে প্রস্থান করার জন্য প্রস্তুতি নেয়।\",\"মাত্র ১৭ মিনিটেই পুরোপুরি চার্জ হবে স্মার্টফোন! | কালের কণ্ঠ\",\"প্রতিটি জিনিসকে পুরোপুরি গ্রহণ করুন। তাহলেই আপনি এ থেকে পরিপূর্ণ শিক্ষা নিতে পারবেন।\"]"
   ]
  },
  {
   "cell_type": "code",
   "execution_count": 118,
   "metadata": {},
   "outputs": [
    {
     "name": "stdout",
     "output_type": "stream",
     "text": [
      "['দারিদ্রতা পুরোপুরি নির্মূল করে দেবে বিজেপি', 'অতিরিক্ত টেনশন একটা মানুষকে পুরোপুরি শেষ করে দেওয়ার জন্য যথেষ্ট', 'আপনি কি পুরোপুরি নিরামিষভোজী?', 'রোমান্টিক মানুষ গুলো কখনো পুরোপুরি অসৎ বা হারামি হতে পারেনা।', 'পুরান ঢাকা পুরোপুরি ঝুঁকিমুক্ত করা সম্ভব নয়: গণপূর্তমন্ত্রী', 'পুরোপুরি।', 'পুরোপুরি ঠিক নয়?', 'মানুষ যখন পুরোপুরি একা হয়ে যায় তখন সে প্রস্থান করার জন্য প্রস্তুতি নেয়।', 'মাত্র ১৭ মিনিটেই পুরোপুরি চার্জ হবে স্মার্টফোন! | কালের কণ্ঠ', 'প্রতিটি জিনিসকে পুরোপুরি গ্রহণ করুন। তাহলেই আপনি এ থেকে পরিপূর্ণ শিক্ষা নিতে পারবেন।']\n"
     ]
    }
   ],
   "source": [
    "print(quite)"
   ]
  },
  {
   "cell_type": "code",
   "execution_count": 119,
   "metadata": {},
   "outputs": [
    {
     "name": "stdout",
     "output_type": "stream",
     "text": [
      "['দারিদ্রতা পুরোপুরি নির্মূল করে দেবে বিজেপি']\n",
      "['অতিরিক্ত টেনশন একটা মানুষকে পুরোপুরি শেষ করে দেওয়ার জন্য যথেষ্ট']\n",
      "['আপনি কি পুরোপুরি নিরামিষভোজী?']\n",
      "['রোমান্টিক মানুষ গুলো কখনো পুরোপুরি অসৎ বা হারামি হতে পারেনা।']\n",
      "['পুরান ঢাকা পুরোপুরি ঝুঁকিমুক্ত করা সম্ভব নয়: গণপূর্তমন্ত্রী']\n",
      "['পুরোপুরি।']\n",
      "['পুরোপুরি ঠিক নয়?']\n",
      "['মানুষ যখন পুরোপুরি একা হয়ে যায় তখন সে প্রস্থান করার জন্য প্রস্তুতি নেয়।']\n",
      "['মাত্র ১৭ মিনিটেই পুরোপুরি চার্জ হবে স্মার্টফোন!', '| কালের কণ্ঠ']\n",
      "['প্রতিটি জিনিসকে পুরোপুরি গ্রহণ করুন। তাহলেই আপনি এ থেকে পরিপূর্ণ শিক্ষা নিতে পারবেন।']\n"
     ]
    }
   ],
   "source": [
    "tokenizedSentences = [sent_tokenize(i) for i in quite]\n",
    "for i in tokenizedSentences:\n",
    "    print(i)"
   ]
  },
  {
   "cell_type": "code",
   "execution_count": 120,
   "metadata": {},
   "outputs": [],
   "source": [
    "translator=Translator()"
   ]
  },
  {
   "cell_type": "code",
   "execution_count": 121,
   "metadata": {},
   "outputs": [
    {
     "name": "stdout",
     "output_type": "stream",
     "text": [
      "BJP will completely eliminate poverty\n",
      "Additional tension is enough to completely eliminate a man\n",
      "Are you completely vegetarian?\n",
      "Romantic people can never be completely evil or unlawful.\n",
      "Old Dhaka can not be completely free from risk: Public Works Minister\n",
      "Perfectly\n",
      "Not quite right?\n",
      "When people are completely alone, they prepare to quit.\n",
      "Smartphone will be fully charged in just 17 minutes! | Kaler Kantho\n",
      "Accept all things completely. Then you can take full education from this.\n"
     ]
    }
   ],
   "source": [
    "c=[]\n",
    "for element in quite:\n",
    "    c=(translator.translate(element).text)\n",
    "    print(c)"
   ]
  },
  {
   "cell_type": "code",
   "execution_count": 20,
   "metadata": {},
   "outputs": [],
   "source": [
    "test=[\"মেরামতের অভাবে পুরোপুরি নষ্ট হওয়ার পথে কোচগুলো। একবার মেরামত করলে একটি কোচ অনায়াসে ১২ বছর পরিচালনা করা যায়।\",\"প্রতিটি জিনিসকে পুরোপুরি গ্রহণ করুন।\",\"পুরোপুরি সুস্থ হয়ে উঠুন কিংবদন্তী \"]"
   ]
  },
  {
   "cell_type": "code",
   "execution_count": 21,
   "metadata": {},
   "outputs": [
    {
     "name": "stdout",
     "output_type": "stream",
     "text": [
      "['মেরামতের অভাবে পুরোপুরি নষ্ট হওয়ার পথে কোচগুলো। একবার মেরামত করলে একটি কোচ অনায়াসে ১২ বছর পরিচালনা করা যায়।', 'প্রতিটি জিনিসকে পুরোপুরি গ্রহণ করুন।', 'পুরোপুরি সুস্থ হয়ে উঠুন কিংবদন্তী ']\n"
     ]
    }
   ],
   "source": [
    "print(test)"
   ]
  },
  {
   "cell_type": "code",
   "execution_count": null,
   "metadata": {},
   "outputs": [],
   "source": []
  },
  {
   "cell_type": "code",
   "execution_count": 22,
   "metadata": {},
   "outputs": [
    {
     "name": "stdout",
     "output_type": "stream",
     "text": [
      "['মেরামতের অভাবে পুরোপুরি নষ্ট হওয়ার পথে কোচগুলো। একবার মেরামত করলে একটি কোচ অনায়াসে ১২ বছর পরিচালনা করা যায়।']\n",
      "['প্রতিটি জিনিসকে পুরোপুরি গ্রহণ করুন।']\n",
      "['পুরোপুরি সুস্থ হয়ে উঠুন কিংবদন্তী']\n"
     ]
    }
   ],
   "source": [
    "tokenizedSentences = [sent_tokenize(i) for i in test]\n",
    "for i in tokenizedSentences:\n",
    "    print(i)"
   ]
  },
  {
   "cell_type": "code",
   "execution_count": 23,
   "metadata": {},
   "outputs": [],
   "source": [
    "translator=Translator()"
   ]
  },
  {
   "cell_type": "code",
   "execution_count": 24,
   "metadata": {},
   "outputs": [
    {
     "name": "stdout",
     "output_type": "stream",
     "text": [
      "Coaches are on the way to being completely destroyed due to lack of repair. Once a repair, a coach can be managed 12 years effortlessly.\n",
      "Accept all things completely.\n",
      "Get completely healed legend\n"
     ]
    }
   ],
   "source": [
    "c=[]\n",
    "for element in test:\n",
    "    c=(translator.translate(element).text)\n",
    "    print(c)"
   ]
  },
  {
   "cell_type": "code",
   "execution_count": null,
   "metadata": {},
   "outputs": [],
   "source": []
  }
 ],
 "metadata": {
  "kernelspec": {
   "display_name": "Python 3",
   "language": "python",
   "name": "python3"
  },
  "language_info": {
   "codemirror_mode": {
    "name": "ipython",
    "version": 3
   },
   "file_extension": ".py",
   "mimetype": "text/x-python",
   "name": "python",
   "nbconvert_exporter": "python",
   "pygments_lexer": "ipython3",
   "version": "3.7.1"
  }
 },
 "nbformat": 4,
 "nbformat_minor": 2
}
