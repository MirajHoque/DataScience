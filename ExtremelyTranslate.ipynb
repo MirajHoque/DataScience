{
 "cells": [
  {
   "cell_type": "code",
   "execution_count": 5,
   "metadata": {},
   "outputs": [],
   "source": [
    "from googletrans import Translator"
   ]
  },
  {
   "cell_type": "code",
   "execution_count": 6,
   "metadata": {},
   "outputs": [],
   "source": [
    "from textblob import TextBlob"
   ]
  },
  {
   "cell_type": "code",
   "execution_count": 7,
   "metadata": {},
   "outputs": [],
   "source": [
    "from nltk.tokenize import sent_tokenize, word_tokenize"
   ]
  },
  {
   "cell_type": "code",
   "execution_count": 63,
   "metadata": {},
   "outputs": [],
   "source": [
    "#extreme=[\"ইউরোপের ক্লাব ফুটবলের শীর্ষ পাঁচ লিগের তিনটির শিরোপা প্রায় নিশ্চিত \",\"পটুয়াখালীর গলাচিপায় একটি বিদ্যুতের খুঁটি গত প্রায় আট বছর ধরে হেলে পড়ে আছে\",\"\"]\n",
    "extreme=[\"একটি অ্যান্টিভাইরাসও অ্যান্ড্রয়েডের জন্য অত্যন্ত উপকারী\",\"শুদ্ধ ভক্তের সঙ্গে ভগবানের সম্পর্ক অত্যন্ত মধুর।\",\"সরকারি হাসপাতালে রোগীদের অত্যন্ত সম্মানের সঙ্গে চিকিৎসা সেবা দিতে হবে : স্বাস্থ্যমন্ত্রী\",\"ক্ষমা ও শাস্তি সম্পর্কে মহান রব বলেন:আমার বান্দাদেরকে বলে দাও, নিশ্চয় আমি অত্যন্ত ক্ষমাশীল, পরম দয়ালু।\",\"সকালে ও খাওয়ার পরে পানি পানের বিশ মিনিট পরে ফল খাওয়া অত্যন্ত ভাল।\",\"প্রিয় জনের দেওয়া প্রতিটি উপহার অত্যন্ত মূল্যবান\",\": নিরবতা এক ধরনের অলংকার যা নারীদের জন্য অত্যন্ত শোভনীয়।\",\"পুরান ঢাকার অবস্থা অত্যন্ত নাজুক : গণপূর্তমন্ত্রী\",\"বাংলা চলচ্চিত্রের অত্যন্ত শক্তিশালী ও জনপ্রিয় কৌতুক অভিনেতা টেলিসামাদ আর নেই \",\"সূর্যোদয় দেখাটা অত্যন্ত জরুরী। এই দৃশ্যটি মানুষকে ভাবতে শিখায়। মন বড় করে।\",\"আপনার ভাইয়ের জীবন অত্যন্ত আনন্দে সুখে ভরে উঠুক\"]"
   ]
  },
  {
   "cell_type": "code",
   "execution_count": 64,
   "metadata": {},
   "outputs": [
    {
     "name": "stdout",
     "output_type": "stream",
     "text": [
      "['একটি অ্যান্টিভাইরাসও অ্যান্ড্রয়েডের জন্য অত্যন্ত উপকারী', 'শুদ্ধ ভক্তের সঙ্গে ভগবানের সম্পর্ক অত্যন্ত মধুর।', 'সরকারি হাসপাতালে রোগীদের অত্যন্ত সম্মানের সঙ্গে চিকিৎসা সেবা দিতে হবে : স্বাস্থ্যমন্ত্রী', 'ক্ষমা ও শাস্তি সম্পর্কে মহান রব বলেন:আমার বান্দাদেরকে বলে দাও, নিশ্চয় আমি অত্যন্ত ক্ষমাশীল, পরম দয়ালু।', 'সকালে ও খাওয়ার পরে পানি পানের বিশ মিনিট পরে ফল খাওয়া অত্যন্ত ভাল।', 'প্রিয় জনের দেওয়া প্রতিটি উপহার অত্যন্ত মূল্যবান', ': নিরবতা এক ধরনের অলংকার যা নারীদের জন্য অত্যন্ত শোভনীয়।', 'পুরান ঢাকার অবস্থা অত্যন্ত নাজুক : গণপূর্তমন্ত্রী', 'বাংলা চলচ্চিত্রের অত্যন্ত শক্তিশালী ও জনপ্রিয় কৌতুক অভিনেতা টেলিসামাদ আর নেই ', 'সূর্যোদয় দেখাটা অত্যন্ত জরুরী। এই দৃশ্যটি মানুষকে ভাবতে শিখায়। মন বড় করে।', 'আপনার ভাইয়ের জীবন অত্যন্ত আনন্দে সুখে ভরে উঠুক']\n"
     ]
    }
   ],
   "source": [
    "print(extreme)"
   ]
  },
  {
   "cell_type": "code",
   "execution_count": 65,
   "metadata": {},
   "outputs": [
    {
     "name": "stdout",
     "output_type": "stream",
     "text": [
      "['একটি অ্যান্টিভাইরাসও অ্যান্ড্রয়েডের জন্য অত্যন্ত উপকারী']\n",
      "['শুদ্ধ ভক্তের সঙ্গে ভগবানের সম্পর্ক অত্যন্ত মধুর।']\n",
      "['সরকারি হাসপাতালে রোগীদের অত্যন্ত সম্মানের সঙ্গে চিকিৎসা সেবা দিতে হবে : স্বাস্থ্যমন্ত্রী']\n",
      "['ক্ষমা ও শাস্তি সম্পর্কে মহান রব বলেন:আমার বান্দাদেরকে বলে দাও, নিশ্চয় আমি অত্যন্ত ক্ষমাশীল, পরম দয়ালু।']\n",
      "['সকালে ও খাওয়ার পরে পানি পানের বিশ মিনিট পরে ফল খাওয়া অত্যন্ত ভাল।']\n",
      "['প্রিয় জনের দেওয়া প্রতিটি উপহার অত্যন্ত মূল্যবান']\n",
      "[': নিরবতা এক ধরনের অলংকার যা নারীদের জন্য অত্যন্ত শোভনীয়।']\n",
      "['পুরান ঢাকার অবস্থা অত্যন্ত নাজুক : গণপূর্তমন্ত্রী']\n",
      "['বাংলা চলচ্চিত্রের অত্যন্ত শক্তিশালী ও জনপ্রিয় কৌতুক অভিনেতা টেলিসামাদ আর নেই']\n",
      "['সূর্যোদয় দেখাটা অত্যন্ত জরুরী। এই দৃশ্যটি মানুষকে ভাবতে শিখায়। মন বড় করে।']\n",
      "['আপনার ভাইয়ের জীবন অত্যন্ত আনন্দে সুখে ভরে উঠুক']\n"
     ]
    }
   ],
   "source": [
    "tokenizedSentences = [sent_tokenize(i) for i in extreme]\n",
    "for i in tokenizedSentences:\n",
    "    print(i)"
   ]
  },
  {
   "cell_type": "code",
   "execution_count": 66,
   "metadata": {},
   "outputs": [],
   "source": [
    "translator=Translator()"
   ]
  },
  {
   "cell_type": "code",
   "execution_count": 67,
   "metadata": {},
   "outputs": [
    {
     "name": "stdout",
     "output_type": "stream",
     "text": [
      "An antivirus is extremely useful for Android\n",
      "God's relationship with a pure devotee is very sweet.\n",
      "The patients should be treated with utmost respect in the government hospital: Health Minister\n",
      "The great Lord said about forgiveness and punishment: Say to my servants: I am indeed the Forgiving, the Most Merciful.\n",
      "It is very good to eat fruit after 20 minutes of drinking water after morning and after drinking.\n",
      "Every gift given to the beloved people is very valuable\n",
      ": Silence is a kind of jewelery that is very fond for women.\n",
      "Old Dhaka situation is very delicate: Public Works Minister\n",
      "TeleSamad, the most powerful and popular comedian of Bangla film, is no more\n",
      "It is very important to see sunrise. This scene teaches people to think. The mind is bigger\n",
      "Your brother's life will be filled with happiness\n"
     ]
    }
   ],
   "source": [
    "c=[]\n",
    "for element in extreme:\n",
    "    c=(translator.translate(element).text)\n",
    "    print(c)"
   ]
  },
  {
   "cell_type": "code",
   "execution_count": null,
   "metadata": {},
   "outputs": [],
   "source": []
  },
  {
   "cell_type": "code",
   "execution_count": null,
   "metadata": {},
   "outputs": [],
   "source": []
  }
 ],
 "metadata": {
  "kernelspec": {
   "display_name": "Python 3",
   "language": "python",
   "name": "python3"
  },
  "language_info": {
   "codemirror_mode": {
    "name": "ipython",
    "version": 3
   },
   "file_extension": ".py",
   "mimetype": "text/x-python",
   "name": "python",
   "nbconvert_exporter": "python",
   "pygments_lexer": "ipython3",
   "version": "3.7.1"
  }
 },
 "nbformat": 4,
 "nbformat_minor": 2
}
