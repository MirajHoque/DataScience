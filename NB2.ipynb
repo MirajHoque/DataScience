{
 "cells": [
  {
   "cell_type": "code",
   "execution_count": null,
   "metadata": {},
   "outputs": [],
   "source": [
    "import sklearn.datasets as skd\n",
    "#from sklearn.datasets import load_files\n",
    "categories = ['degree','nonDegree']\n",
    "train = skd.load_files('C:\\Users\\ahmir\\Downloads\\Documents\\NLTK\\dataSet\\TrainData', categories= categories, encoding='ISO-8859-1')\n",
    "test = skd.load_files('C:\\Users\\ahmir\\Downloads\\Documents\\NLTK\\dataSet\\TestData',categories= categories, encoding= 'ISO-8859-1')"
   ]
  },
  {
   "cell_type": "code",
   "execution_count": null,
   "metadata": {},
   "outputs": [],
   "source": [
    "from sklearn.feature_extraction.text import TfidTransformer\n",
    "tfid_transformer=TfidTransformer()\n",
    "x_train_tfidf=tfidf_transformer.fit_transform(x_train_tf)\n",
    "x_train_tfidf.shape"
   ]
  },
  {
   "cell_type": "code",
   "execution_count": null,
   "metadata": {},
   "outputs": [],
   "source": [
    "from sklearn.naive bayes import MultinomialNB\n",
    "clf=MultinomialNB().fit(x_train_tfidf,train.target)"
   ]
  },
  {
   "cell_type": "code",
   "execution_count": null,
   "metadata": {},
   "outputs": [],
   "source": []
  },
  {
   "cell_type": "code",
   "execution_count": null,
   "metadata": {},
   "outputs": [],
   "source": []
  }
 ],
 "metadata": {
  "kernelspec": {
   "display_name": "Python 3",
   "language": "python",
   "name": "python3"
  },
  "language_info": {
   "codemirror_mode": {
    "name": "ipython",
    "version": 3
   },
   "file_extension": ".py",
   "mimetype": "text/x-python",
   "name": "python",
   "nbconvert_exporter": "python",
   "pygments_lexer": "ipython3",
   "version": "3.7.1"
  }
 },
 "nbformat": 4,
 "nbformat_minor": 2
}
