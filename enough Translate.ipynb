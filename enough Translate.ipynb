{
 "cells": [
  {
   "cell_type": "code",
   "execution_count": 1,
   "metadata": {},
   "outputs": [],
   "source": [
    "from googletrans import Translator\n",
    "from textblob import TextBlob\n",
    "from nltk.tokenize import sent_tokenize, word_tokenize"
   ]
  },
  {
   "cell_type": "code",
   "execution_count": 2,
   "metadata": {},
   "outputs": [],
   "source": [
    "enough=[\" সিরিয়ার নির্মম করুণ অবস্থা জানার জন্য এ দুটি পা-ই যথেষ্ট!\",\"দূরত্ব বাড়াতে কোন কারন লাগে না! আচরণই যথেষ্ট\",\"অতিরিক্ত টেনশনএকটা মানুষকে পুরোপুরি শেষ করে দেওয়ার জন্য যথেষ্ট\",\"এই বাংলা ওয়েব সিরিজগুলো আপনার রাতের ঘুম কেড়ে নেয়ার জন্য যথেষ্ট\",\"উত্তর টা যথেষ্ট ছিলো \",\"কেবল ধিক্কার জানানো যথেষ্ট নয়। \",\"রাগ অভিমানই যথেষ্ট একটি সুন্দর সম্পর্ক নষ্ট করতে।\",\"আবেগ জিনিসটা সত্যিই খারাপ,একজন মানুষকে ধ্বংস করার জন্য আবেগই যথেষ্ট\",\"জাহান্নামের আগুন ছাড়া দুনিয়ার আগুন এদের জন্য যথেষ্ট হবে না\",\"জ্ঞানী হতে হাজারটা বই লাগে না আল-কোরআন ই যথেষ্ট\"]"
   ]
  },
  {
   "cell_type": "code",
   "execution_count": 3,
   "metadata": {},
   "outputs": [
    {
     "name": "stdout",
     "output_type": "stream",
     "text": [
      "[' সিরিয়ার নির্মম করুণ অবস্থা জানার জন্য এ দুটি পা-ই যথেষ্ট!', 'দূরত্ব বাড়াতে কোন কারন লাগে না! আচরণই যথেষ্ট', 'অতিরিক্ত টেনশনএকটা মানুষকে পুরোপুরি শেষ করে দেওয়ার জন্য যথেষ্ট', 'এই বাংলা ওয়েব সিরিজগুলো আপনার রাতের ঘুম কেড়ে নেয়ার জন্য যথেষ্ট', 'উত্তর টা যথেষ্ট ছিলো ', 'কেবল ধিক্কার জানানো যথেষ্ট নয়। ', 'রাগ অভিমানই যথেষ্ট একটি সুন্দর সম্পর্ক নষ্ট করতে।', 'আবেগ জিনিসটা সত্যিই খারাপ,একজন মানুষকে ধ্বংস করার জন্য আবেগই যথেষ্ট', 'জাহান্নামের আগুন ছাড়া দুনিয়ার আগুন এদের জন্য যথেষ্ট হবে না', 'জ্ঞানী হতে হাজারটা বই লাগে না আল-কোরআন ই যথেষ্ট']\n"
     ]
    }
   ],
   "source": [
    "print(enough)"
   ]
  },
  {
   "cell_type": "code",
   "execution_count": 4,
   "metadata": {},
   "outputs": [
    {
     "name": "stdout",
     "output_type": "stream",
     "text": [
      "[' সিরিয়ার নির্মম করুণ অবস্থা জানার জন্য এ দুটি পা-ই যথেষ্ট!']\n",
      "['দূরত্ব বাড়াতে কোন কারন লাগে না!', 'আচরণই যথেষ্ট']\n",
      "['অতিরিক্ত টেনশনএকটা মানুষকে পুরোপুরি শেষ করে দেওয়ার জন্য যথেষ্ট']\n",
      "['এই বাংলা ওয়েব সিরিজগুলো আপনার রাতের ঘুম কেড়ে নেয়ার জন্য যথেষ্ট']\n",
      "['উত্তর টা যথেষ্ট ছিলো']\n",
      "['কেবল ধিক্কার জানানো যথেষ্ট নয়।']\n",
      "['রাগ অভিমানই যথেষ্ট একটি সুন্দর সম্পর্ক নষ্ট করতে।']\n",
      "['আবেগ জিনিসটা সত্যিই খারাপ,একজন মানুষকে ধ্বংস করার জন্য আবেগই যথেষ্ট']\n",
      "['জাহান্নামের আগুন ছাড়া দুনিয়ার আগুন এদের জন্য যথেষ্ট হবে না']\n",
      "['জ্ঞানী হতে হাজারটা বই লাগে না আল-কোরআন ই যথেষ্ট']\n"
     ]
    }
   ],
   "source": [
    "tokenizedSentences = [sent_tokenize(i) for i in enough]\n",
    "for i in tokenizedSentences:\n",
    "    print(i)"
   ]
  },
  {
   "cell_type": "code",
   "execution_count": 5,
   "metadata": {},
   "outputs": [],
   "source": [
    "translator=Translator()"
   ]
  },
  {
   "cell_type": "code",
   "execution_count": 6,
   "metadata": {},
   "outputs": [
    {
     "name": "stdout",
     "output_type": "stream",
     "text": [
      "These two legs are enough to know the cruel state of Syria!\n",
      "No reason to increase the distance! Behavior is enough\n",
      "Additional tension is enough for a man to completely finish a man\n",
      "These Bengali web series are enough to take your night's sleep\n",
      "The answer was enough\n",
      "It's not enough to just shout.\n",
      "Angry huffs are enough to ruin a beautiful relationship.\n",
      "The emotion is really bad, the emotion is enough to destroy a person\n",
      "Without the fire of hell, the world's fire will not be enough for them\n",
      "It does not take thousands of books to be wise, al-Qur'ân is enough\n"
     ]
    }
   ],
   "source": [
    "c=[]\n",
    "for element in enough:\n",
    "    c=(translator.translate(element).text)\n",
    "    print(c)"
   ]
  },
  {
   "cell_type": "code",
   "execution_count": 27,
   "metadata": {},
   "outputs": [],
   "source": [
    "test=[\"যথেষ্ট অসুস্থতার মধ্যে দিয়ে দিন পার করছি।\",\"আপনি একাই যথেষ্ট সমস্ত অসম্ভবকে সম্ভব করার জন্য\",\"যথেষ্ট হয়েছে\"]"
   ]
  },
  {
   "cell_type": "code",
   "execution_count": 28,
   "metadata": {},
   "outputs": [
    {
     "name": "stdout",
     "output_type": "stream",
     "text": [
      "['যথেষ্ট অসুস্থতার মধ্যে দিয়ে দিন পার করছি।', 'আপনি একাই যথেষ্ট সমস্ত অসম্ভবকে সম্ভব করার জন্য', 'যথেষ্ট হয়েছে']\n"
     ]
    }
   ],
   "source": [
    "print(test)"
   ]
  },
  {
   "cell_type": "code",
   "execution_count": 29,
   "metadata": {},
   "outputs": [
    {
     "name": "stdout",
     "output_type": "stream",
     "text": [
      "['যথেষ্ট অসুস্থতার মধ্যে দিয়ে দিন পার করছি।']\n",
      "['আপনি একাই যথেষ্ট সমস্ত অসম্ভবকে সম্ভব করার জন্য']\n",
      "['যথেষ্ট হয়েছে']\n"
     ]
    }
   ],
   "source": [
    "tokenizedSentences = [sent_tokenize(i) for i in test]\n",
    "for i in tokenizedSentences:\n",
    "    print(i)"
   ]
  },
  {
   "cell_type": "code",
   "execution_count": 30,
   "metadata": {},
   "outputs": [],
   "source": [
    "translator=Translator()"
   ]
  },
  {
   "cell_type": "code",
   "execution_count": 31,
   "metadata": {},
   "outputs": [
    {
     "name": "stdout",
     "output_type": "stream",
     "text": [
      "I am passing through the day with enough illness.\n",
      "You are enough alone to make all the impossible possible\n",
      "It's enough\n"
     ]
    }
   ],
   "source": [
    "c=[]\n",
    "for element in test:\n",
    "    c=(translator.translate(element).text)\n",
    "    print(c)"
   ]
  },
  {
   "cell_type": "code",
   "execution_count": null,
   "metadata": {},
   "outputs": [],
   "source": []
  },
  {
   "cell_type": "code",
   "execution_count": null,
   "metadata": {},
   "outputs": [],
   "source": []
  }
 ],
 "metadata": {
  "kernelspec": {
   "display_name": "Python 3",
   "language": "python",
   "name": "python3"
  },
  "language_info": {
   "codemirror_mode": {
    "name": "ipython",
    "version": 3
   },
   "file_extension": ".py",
   "mimetype": "text/x-python",
   "name": "python",
   "nbconvert_exporter": "python",
   "pygments_lexer": "ipython3",
   "version": "3.7.1"
  }
 },
 "nbformat": 4,
 "nbformat_minor": 2
}
