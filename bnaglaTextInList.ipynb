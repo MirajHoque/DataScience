{
 "cells": [
  {
   "cell_type": "code",
   "execution_count": 38,
   "metadata": {},
   "outputs": [],
   "source": [
    "from nltk.tokenize import sent_tokenize, word_tokenize"
   ]
  },
  {
   "cell_type": "code",
   "execution_count": 39,
   "metadata": {},
   "outputs": [],
   "source": [
    "from googletrans import Translator"
   ]
  },
  {
   "cell_type": "code",
   "execution_count": 40,
   "metadata": {},
   "outputs": [
    {
     "name": "stdout",
     "output_type": "stream",
     "text": [
      "['do you know?', 'you are special to me!.']\n"
     ]
    }
   ],
   "source": [
    "#text=\"মিথ্যা হলো শয়তানের বিয়ের মন্ত্র। মিথ্যা বললেই শয়তানের বিয়ে হয়। বিয়ে হওয়া মানেই সন্তান-সন্ততি হওয়া।\"\n",
    "#a='।'\n",
    "#b='.'\n",
    "#newText=text.replace(a,b)\n",
    "someone=\"do you know? you are special to me!.\"\n",
    "#tokenizedSentences = [sent_tokenize(i) for i in newText]\n",
    "#for i in tokenizedSentences:\n",
    "#    print(i)\n",
    "c=sent_tokenize(someone) \n",
    "print(c)"
   ]
  },
  {
   "cell_type": "code",
   "execution_count": 41,
   "metadata": {},
   "outputs": [
    {
     "name": "stdout",
     "output_type": "stream",
     "text": [
      "do you know?\n"
     ]
    }
   ],
   "source": [
    "print(c[0])"
   ]
  },
  {
   "cell_type": "code",
   "execution_count": null,
   "metadata": {},
   "outputs": [],
   "source": []
  },
  {
   "cell_type": "code",
   "execution_count": null,
   "metadata": {},
   "outputs": [],
   "source": []
  }
 ],
 "metadata": {
  "kernelspec": {
   "display_name": "Python 3",
   "language": "python",
   "name": "python3"
  },
  "language_info": {
   "codemirror_mode": {
    "name": "ipython",
    "version": 3
   },
   "file_extension": ".py",
   "mimetype": "text/x-python",
   "name": "python",
   "nbconvert_exporter": "python",
   "pygments_lexer": "ipython3",
   "version": "3.7.1"
  }
 },
 "nbformat": 4,
 "nbformat_minor": 2
}
