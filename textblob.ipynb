{
 "cells": [
  {
   "cell_type": "code",
   "execution_count": 2,
   "metadata": {},
   "outputs": [
    {
     "name": "stdout",
     "output_type": "stream",
     "text": [
      "Collecting TextBlob\n",
      "  Downloading https://files.pythonhosted.org/packages/60/f0/1d9bfcc8ee6b83472ec571406bd0dd51c0e6330ff1a51b2d29861d389e85/textblob-0.15.3-py2.py3-none-any.whl (636kB)\n",
      "Requirement already satisfied: nltk>=3.1 in c:\\users\\ahmir\\anaconda3\\lib\\site-packages (from TextBlob) (3.4)\n",
      "Requirement already satisfied: six in c:\\users\\ahmir\\anaconda3\\lib\\site-packages (from nltk>=3.1->TextBlob) (1.12.0)\n",
      "Requirement already satisfied: singledispatch in c:\\users\\ahmir\\anaconda3\\lib\\site-packages (from nltk>=3.1->TextBlob) (3.4.0.3)\n",
      "Installing collected packages: TextBlob\n",
      "Successfully installed TextBlob-0.15.3\n"
     ]
    }
   ],
   "source": [
    "!pip install TextBlob"
   ]
  },
  {
   "cell_type": "code",
   "execution_count": 3,
   "metadata": {},
   "outputs": [],
   "source": [
    "from textblob import TextBlob"
   ]
  },
  {
   "cell_type": "code",
   "execution_count": 6,
   "metadata": {},
   "outputs": [
    {
     "name": "stdout",
     "output_type": "stream",
     "text": [
      "Sentiment(polarity=-0.6999999999999998, subjectivity=0.6666666666666666)\n",
      "Sentiment(polarity=-0.9099999999999998, subjectivity=0.8666666666666667)\n"
     ]
    }
   ],
   "source": [
    "review=\"the food at cafe sania was bad\"\n",
    "review1=\"the food at cafe sania was very bad\"\n",
    "blob=TextBlob(review)\n",
    "blob1=TextBlob(review1)\n",
    "print(blob.sentiment)\n",
    "print(blob1.sentiment)"
   ]
  },
  {
   "cell_type": "code",
   "execution_count": null,
   "metadata": {},
   "outputs": [],
   "source": []
  }
 ],
 "metadata": {
  "kernelspec": {
   "display_name": "Python 3",
   "language": "python",
   "name": "python3"
  },
  "language_info": {
   "codemirror_mode": {
    "name": "ipython",
    "version": 3
   },
   "file_extension": ".py",
   "mimetype": "text/x-python",
   "name": "python",
   "nbconvert_exporter": "python",
   "pygments_lexer": "ipython3",
   "version": "3.7.1"
  }
 },
 "nbformat": 4,
 "nbformat_minor": 2
}
