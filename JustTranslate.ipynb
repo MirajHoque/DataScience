{
 "cells": [
  {
   "cell_type": "code",
   "execution_count": 1,
   "metadata": {},
   "outputs": [],
   "source": [
    "from googletrans import Translator"
   ]
  },
  {
   "cell_type": "code",
   "execution_count": 2,
   "metadata": {},
   "outputs": [],
   "source": [
    "from textblob import TextBlob"
   ]
  },
  {
   "cell_type": "code",
   "execution_count": 3,
   "metadata": {},
   "outputs": [],
   "source": [
    "from nltk.tokenize import sent_tokenize, word_tokenize"
   ]
  },
  {
   "cell_type": "code",
   "execution_count": 4,
   "metadata": {},
   "outputs": [],
   "source": [
    "just=[\"সাফল্যের মাত্র ২ ভাগ হচ্ছে প্রতিভা আর ৯৮ ভাগই হচ্ছে পরিশ্রম\",\"মাত্র সাত মাস আগেই মালয়েশিয়া যান মোহম্মদ সোহেল। \",\"সীতাকে একবার মাত্র কিডন্যাপ করার কারনে আমরা যদি প্রতি বছর রাবনকে জ্বালাতে পারি তাহলে ক্রিমিনাল আর ধর্ষকদের প্রতিদিন নয় কেন ?\",\"জমি জায়গা বিক্রি করে প্রবাসে গিয়ে মাত্র নয় মাসের মধ্যে লাশ হয়ে ফিরল গোলাম মোস্তফা \",\"মাত্র ২০০ এর মতো টুইট হলেই ১০ হাজার টুইট পূ্র্ন হবে আমার\",\"মাত্র একটা,যাও দিলাম\",\"প্রেমিকারা তো এই আকাশের অংশ মাত্র, পূর্ণিমা কি করে হবে!\",\"মাত্র তিনদিন পরই ছেলের বিয়ে, দেখে যেতে পারলেন না টেলি সামাদ\",\" হুম মাত্র নাস্তা করলাম\",\" বাস্তবের প্রতিচ্ছবি মাত্র\",\"মাত্র ১০০ দিনে ৮ লাখ মানুষকে হত্যা করা হয়!\",\"মাত্র ৫ মিনিটের তাণ্ডব, উড়ে গেল দুই শতাধিক ঘরবাড়ি\",\"মাত্র ৩ লাখ টাকার জন্য চিকিৎসা হচ্ছে না যমজ শিশুর \"]"
   ]
  },
  {
   "cell_type": "code",
   "execution_count": 5,
   "metadata": {},
   "outputs": [
    {
     "name": "stdout",
     "output_type": "stream",
     "text": [
      "['সাফল্যের মাত্র ২ ভাগ হচ্ছে প্রতিভা আর ৯৮ ভাগই হচ্ছে পরিশ্রম', 'মাত্র সাত মাস আগেই মালয়েশিয়া যান মোহম্মদ সোহেল। ', 'সীতাকে একবার মাত্র কিডন্যাপ করার কারনে আমরা যদি প্রতি বছর রাবনকে জ্বালাতে পারি তাহলে ক্রিমিনাল আর ধর্ষকদের প্রতিদিন নয় কেন ?', 'জমি জায়গা বিক্রি করে প্রবাসে গিয়ে মাত্র নয় মাসের মধ্যে লাশ হয়ে ফিরল গোলাম মোস্তফা ', 'মাত্র ২০০ এর মতো টুইট হলেই ১০ হাজার টুইট পূ্র্ন হবে আমার', 'মাত্র একটা,যাও দিলাম', 'প্রেমিকারা তো এই আকাশের অংশ মাত্র, পূর্ণিমা কি করে হবে!', 'মাত্র তিনদিন পরই ছেলের বিয়ে, দেখে যেতে পারলেন না টেলি সামাদ', ' হুম মাত্র নাস্তা করলাম', ' বাস্তবের প্রতিচ্ছবি মাত্র', 'মাত্র ১০০ দিনে ৮ লাখ মানুষকে হত্যা করা হয়!', 'মাত্র ৫ মিনিটের তাণ্ডব, উড়ে গেল দুই শতাধিক ঘরবাড়ি', 'মাত্র ৩ লাখ টাকার জন্য চিকিৎসা হচ্ছে না যমজ শিশুর ']\n"
     ]
    }
   ],
   "source": [
    "print(just)"
   ]
  },
  {
   "cell_type": "code",
   "execution_count": 6,
   "metadata": {},
   "outputs": [
    {
     "name": "stdout",
     "output_type": "stream",
     "text": [
      "['সাফল্যের মাত্র ২ ভাগ হচ্ছে প্রতিভা আর ৯৮ ভাগই হচ্ছে পরিশ্রম']\n",
      "['মাত্র সাত মাস আগেই মালয়েশিয়া যান মোহম্মদ সোহেল।']\n",
      "['সীতাকে একবার মাত্র কিডন্যাপ করার কারনে আমরা যদি প্রতি বছর রাবনকে জ্বালাতে পারি তাহলে ক্রিমিনাল আর ধর্ষকদের প্রতিদিন নয় কেন ?']\n",
      "['জমি জায়গা বিক্রি করে প্রবাসে গিয়ে মাত্র নয় মাসের মধ্যে লাশ হয়ে ফিরল গোলাম মোস্তফা']\n",
      "['মাত্র ২০০ এর মতো টুইট হলেই ১০ হাজার টুইট পূ্র্ন হবে আমার']\n",
      "['মাত্র একটা,যাও দিলাম']\n",
      "['প্রেমিকারা তো এই আকাশের অংশ মাত্র, পূর্ণিমা কি করে হবে!']\n",
      "['মাত্র তিনদিন পরই ছেলের বিয়ে, দেখে যেতে পারলেন না টেলি সামাদ']\n",
      "[' হুম মাত্র নাস্তা করলাম']\n",
      "[' বাস্তবের প্রতিচ্ছবি মাত্র']\n",
      "['মাত্র ১০০ দিনে ৮ লাখ মানুষকে হত্যা করা হয়!']\n",
      "['মাত্র ৫ মিনিটের তাণ্ডব, উড়ে গেল দুই শতাধিক ঘরবাড়ি']\n",
      "['মাত্র ৩ লাখ টাকার জন্য চিকিৎসা হচ্ছে না যমজ শিশুর']\n"
     ]
    }
   ],
   "source": [
    "tokenizedSentences = [sent_tokenize(i) for i in just]\n",
    "for i in tokenizedSentences:\n",
    "    print(i)"
   ]
  },
  {
   "cell_type": "code",
   "execution_count": 7,
   "metadata": {},
   "outputs": [],
   "source": [
    "translator=Translator()"
   ]
  },
  {
   "cell_type": "code",
   "execution_count": 8,
   "metadata": {},
   "outputs": [
    {
     "name": "stdout",
     "output_type": "stream",
     "text": [
      "Success is just 2 percent of talent and 98 percent is the hard work\n",
      "Mohamed Sohel went to Malaysia just seven months ago.\n",
      "If we can burn Ravana every year because of Sita being kidnapped once, why not criminals and rapists every day?\n",
      "Golam Mustafa returned home after leaving the country in just nine months after selling the land\n",
      "Just like 200 tweets, I will have 10 thousand tweets\n",
      "Just one, let me go\n",
      "Lovers are just part of this sky, what will be the full moon!\n",
      "Only three days after the boy's marriage, he could not see the tele samad\n",
      "I just got breakfast\n",
      "Just the reflection of the reality\n",
      "8 million people were killed in just 100 days!\n",
      "Just five minutes of windfall, two hundred homes have been evacuated\n",
      "The twin baby is not being treated for only 3 lakhs\n"
     ]
    }
   ],
   "source": [
    "c=[]\n",
    "for element in just:\n",
    "    c=(translator.translate(element).text)\n",
    "    print(c)"
   ]
  },
  {
   "cell_type": "code",
   "execution_count": 45,
   "metadata": {},
   "outputs": [],
   "source": [
    "test=[\"মাত্র ২৪ ঘণ্টার মধ্যে জয়াকে বিয়ে করতে বাধ্য হয়েছিলেন বিগ বি, কিন্তু কেন?\",\"মাত্র 2 মিনিটে সমস্যার সমাধান\",\"এবারে এখন পর্যন্ত একটি মাত্র ম্যাচ খেলেছেন বাংলাদেশি অলরাউন্ডার সাকিব আল হাসান। \"]"
   ]
  },
  {
   "cell_type": "code",
   "execution_count": 46,
   "metadata": {},
   "outputs": [
    {
     "name": "stdout",
     "output_type": "stream",
     "text": [
      "['মাত্র ২৪ ঘণ্টার মধ্যে জয়াকে বিয়ে করতে বাধ্য হয়েছিলেন বিগ বি, কিন্তু কেন?', 'মাত্র 2 মিনিটে সমস্যার সমাধান', 'এবারে এখন পর্যন্ত একটি মাত্র ম্যাচ খেলেছেন বাংলাদেশি অলরাউন্ডার সাকিব আল হাসান। ']\n"
     ]
    }
   ],
   "source": [
    "print(test)"
   ]
  },
  {
   "cell_type": "code",
   "execution_count": 47,
   "metadata": {},
   "outputs": [
    {
     "name": "stdout",
     "output_type": "stream",
     "text": [
      "['মাত্র ২৪ ঘণ্টার মধ্যে জয়াকে বিয়ে করতে বাধ্য হয়েছিলেন বিগ বি, কিন্তু কেন?']\n",
      "['মাত্র 2 মিনিটে সমস্যার সমাধান']\n",
      "['এবারে এখন পর্যন্ত একটি মাত্র ম্যাচ খেলেছেন বাংলাদেশি অলরাউন্ডার সাকিব আল হাসান।']\n"
     ]
    }
   ],
   "source": [
    "tokenizedSentences = [sent_tokenize(i) for i in test]\n",
    "for i in tokenizedSentences:\n",
    "    print(i)"
   ]
  },
  {
   "cell_type": "code",
   "execution_count": 48,
   "metadata": {},
   "outputs": [],
   "source": [
    "translator=Translator()"
   ]
  },
  {
   "cell_type": "code",
   "execution_count": 49,
   "metadata": {},
   "outputs": [
    {
     "name": "stdout",
     "output_type": "stream",
     "text": [
      "Big B was forced to marry Jaya in just 24 hours, but why?\n",
      "Solving the problem in just 2 minutes\n",
      "Bangladesh all-rounder Shakib Al Hasan has played just one match so far.\n"
     ]
    }
   ],
   "source": [
    "c=[]\n",
    "for element in test:\n",
    "    c=(translator.translate(element).text)\n",
    "    print(c)"
   ]
  },
  {
   "cell_type": "code",
   "execution_count": null,
   "metadata": {},
   "outputs": [],
   "source": []
  },
  {
   "cell_type": "code",
   "execution_count": null,
   "metadata": {},
   "outputs": [],
   "source": []
  }
 ],
 "metadata": {
  "kernelspec": {
   "display_name": "Python 3",
   "language": "python",
   "name": "python3"
  },
  "language_info": {
   "codemirror_mode": {
    "name": "ipython",
    "version": 3
   },
   "file_extension": ".py",
   "mimetype": "text/x-python",
   "name": "python",
   "nbconvert_exporter": "python",
   "pygments_lexer": "ipython3",
   "version": "3.7.1"
  }
 },
 "nbformat": 4,
 "nbformat_minor": 2
}
