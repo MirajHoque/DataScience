{
 "cells": [
  {
   "cell_type": "code",
   "execution_count": 1,
   "metadata": {},
   "outputs": [],
   "source": [
    "from textblob import TextBlob"
   ]
  },
  {
   "cell_type": "code",
   "execution_count": 2,
   "metadata": {},
   "outputs": [
    {
     "name": "stdout",
     "output_type": "stream",
     "text": [
      "Sentiment(polarity=-0.6999999999999998, subjectivity=0.6666666666666666)\n",
      "Sentiment(polarity=0.0, subjectivity=0.0)\n",
      "Sentiment(polarity=-0.6999999999999998, subjectivity=0.6666666666666666)\n",
      "Sentiment(polarity=0.0, subjectivity=0.0)\n",
      "Sentiment(polarity=0.21428571428571427, subjectivity=0.6428571428571429)\n",
      "Sentiment(polarity=0.0, subjectivity=0.0)\n"
     ]
    }
   ],
   "source": [
    "nd0=\"Cafe Sania's food was bad.\"\n",
    "nd1=\"Thank you\"\n",
    "nd2=\"Bad news\"\n",
    "nd3=\"She was injured\"\n",
    "nd4=\"He is smart for the job.\"\n",
    "nd5=\"I am grateful to you.\"\n",
    "\n",
    "blob0=TextBlob(nd0)\n",
    "print(blob0.sentiment)\n",
    "\n",
    "blob1=TextBlob(nd1)\n",
    "print(blob1.sentiment)\n",
    "\n",
    "blob2=TextBlob(nd2)\n",
    "print(blob2.sentiment)\n",
    "\n",
    "blob3=TextBlob(nd3)\n",
    "print(blob3.sentiment)\n",
    "\n",
    "blob4=TextBlob(nd4)\n",
    "print(blob4.sentiment)\n",
    "\n",
    "blob5=TextBlob(nd5)\n",
    "print(blob5.sentiment)\n",
    "\n"
   ]
  },
  {
   "cell_type": "code",
   "execution_count": 3,
   "metadata": {},
   "outputs": [
    {
     "name": "stdout",
     "output_type": "stream",
     "text": [
      "Sentiment(polarity=-0.9099999999999998, subjectivity=0.8666666666666667)\n",
      "Sentiment(polarity=0.2, subjectivity=0.2)\n",
      "Sentiment(polarity=-0.9099999999999998, subjectivity=0.8666666666666667)\n",
      "Sentiment(polarity=-0.125, subjectivity=1.0)\n",
      "Sentiment(polarity=0.21428571428571427, subjectivity=0.6428571428571429)\n",
      "Sentiment(polarity=0.2, subjectivity=0.3)\n"
     ]
    }
   ],
   "source": [
    "d0=\"Cafe Sania's food was very bad.\"\n",
    "d1=\"Thank you so much\"\n",
    "d2=\"very Bad news\"\n",
    "d3=\"She was extremely injured\"\n",
    "d4=\"He is smart enough for the job.\"\n",
    "d5=\"I am very grateful to you.\"\n",
    "\n",
    "blob0=TextBlob(d0)\n",
    "print(blob0.sentiment)\n",
    "\n",
    "blob1=TextBlob(d1)\n",
    "print(blob1.sentiment)\n",
    "\n",
    "blob2=TextBlob(d2)\n",
    "print(blob2.sentiment)\n",
    "\n",
    "blob3=TextBlob(d3)\n",
    "print(blob3.sentiment)\n",
    "\n",
    "blob5=TextBlob(d5)\n",
    "print(blob4.sentiment)\n",
    "\n",
    "blob4=TextBlob(nd4)\n",
    "print(blob5.sentiment)\n"
   ]
  },
  {
   "cell_type": "code",
   "execution_count": 4,
   "metadata": {},
   "outputs": [
    {
     "name": "stdout",
     "output_type": "stream",
     "text": [
      "Sentiment(polarity=-0.6999999999999998, subjectivity=0.6666666666666666)\n",
      "Sentiment(polarity=-0.9099999999999998, subjectivity=0.8666666666666667)\n"
     ]
    }
   ],
   "source": [
    "review=\"Cafe Sania's food was bad.\"\n",
    "review0=\"Cafe Sania's food was very bad.\"\n",
    "\n",
    "blob=TextBlob(review)\n",
    "print(blob.sentiment)\n",
    "\n",
    "blob0=TextBlob(review0)\n",
    "print(blob0.sentiment)"
   ]
  },
  {
   "cell_type": "code",
   "execution_count": null,
   "metadata": {},
   "outputs": [],
   "source": []
  },
  {
   "cell_type": "code",
   "execution_count": null,
   "metadata": {},
   "outputs": [],
   "source": []
  },
  {
   "cell_type": "code",
   "execution_count": null,
   "metadata": {},
   "outputs": [],
   "source": []
  }
 ],
 "metadata": {
  "kernelspec": {
   "display_name": "Python 3",
   "language": "python",
   "name": "python3"
  },
  "language_info": {
   "codemirror_mode": {
    "name": "ipython",
    "version": 3
   },
   "file_extension": ".py",
   "mimetype": "text/x-python",
   "name": "python",
   "nbconvert_exporter": "python",
   "pygments_lexer": "ipython3",
   "version": "3.7.1"
  }
 },
 "nbformat": 4,
 "nbformat_minor": 2
}
